{
 "cells": [
  {
   "cell_type": "code",
   "execution_count": 8,
   "metadata": {},
   "outputs": [
    {
     "name": "stdout",
     "output_type": "stream",
     "text": [
      "Total: 1800 images\n",
      "Example: inclusion_48.jpg\n"
     ]
    }
   ],
   "source": [
    "from os import listdir\n",
    "from os.path import isfile, join\n",
    "import cv2, os\n",
    "import numpy as np\n",
    "training_set = [f for f in listdir(\"images\") if isfile(join(\"images\", f))]\n",
    "print(\"Total:\", len(training_set), \"images\")\n",
    "print(\"Example:\", training_set[0])"
   ]
  },
  {
   "cell_type": "code",
   "execution_count": 13,
   "metadata": {},
   "outputs": [],
   "source": [
    "OUTPUT_DIR = \"data/\"\n",
    "for n, imagePath in enumerate(training_set):\n",
    "    try:\n",
    "        image = cv2.resize(cv2.imread(\"images/\"+imagePath), (299,299))\n",
    "        label = str(imagePath.split(\"_\")[0])\n",
    "        try:\n",
    "            os.makedirs(OUTPUT_DIR+label)\n",
    "        except:\n",
    "            pass\n",
    "        cv2.imwrite(OUTPUT_DIR+label+\"/\"+imagePath.split(\"_\")[1]+str(n)+\".jpg\", image)\n",
    "    except Exception as e:\n",
    "        print(e, imagePath)\n",
    "        pass"
   ]
  },
  {
   "cell_type": "code",
   "execution_count": null,
   "metadata": {},
   "outputs": [],
   "source": []
  }
 ],
 "metadata": {
  "kernelspec": {
   "display_name": "Python 3",
   "language": "python",
   "name": "python3"
  },
  "language_info": {
   "codemirror_mode": {
    "name": "ipython",
    "version": 3
   },
   "file_extension": ".py",
   "mimetype": "text/x-python",
   "name": "python",
   "nbconvert_exporter": "python",
   "pygments_lexer": "ipython3",
   "version": "3.5.2"
  }
 },
 "nbformat": 4,
 "nbformat_minor": 2
}
